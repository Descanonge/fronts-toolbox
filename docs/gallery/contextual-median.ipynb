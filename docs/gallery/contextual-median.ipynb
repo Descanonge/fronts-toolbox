{
 "cells": [
  {
   "cell_type": "code",
   "execution_count": null,
   "id": "a2741423-64ec-47a8-baa0-ca715010712c",
   "metadata": {
    "editable": true,
    "nbsphinx": "hidden",
    "slideshow": {
     "slide_type": ""
    },
    "tags": []
   },
   "outputs": [],
   "source": [
    "%matplotlib inline\n",
    "import matplotlib\n",
    "matplotlib.rcdefaults()"
   ]
  },
  {
   "cell_type": "markdown",
   "id": "6b25f735-46ab-469a-9374-c4158ffa8972",
   "metadata": {
    "editable": true,
    "slideshow": {
     "slide_type": ""
    },
    "tags": []
   },
   "source": [
    "# Contextual Median Filter"
   ]
  },
  {
   "cell_type": "code",
   "execution_count": null,
   "id": "f0f23867-cbeb-4b0d-8d74-0e562cc55de0",
   "metadata": {
    "editable": true,
    "slideshow": {
     "slide_type": ""
    },
    "tags": []
   },
   "outputs": [],
   "source": [
    "import matplotlib.pyplot as plt\n",
    "import numpy as np\n",
    "import xarray as xr\n",
    "from fronts_toolbox._fields import (\n",
    "    add_spikes,\n",
    "    blobby_gradient,\n",
    "    ideal_jet,\n",
    "    sample,\n",
    "    swap_noise,\n",
    ")\n",
    "from fronts_toolbox.filters import cmf_xarray"
   ]
  },
  {
   "cell_type": "markdown",
   "id": "61d4ffbf-7fd3-4836-9c56-9f1534788471",
   "metadata": {},
   "source": [
    "## Blobby gradient\n",
    "\n",
    "A gradient with blobs to preserve and spike noise."
   ]
  },
  {
   "cell_type": "code",
   "execution_count": null,
   "id": "80e6446f-29d1-464a-8ccb-eb0ddfa61c7f",
   "metadata": {},
   "outputs": [],
   "source": [
    "sst_raw = blobby_gradient()\n",
    "vmin = np.min(sst_raw)\n",
    "vmax = np.max(sst_raw)\n",
    "sst = xr.DataArray(\n",
    "    add_spikes(sst_raw), name=\"sst\", dims=(\"lat\", \"lon\")\n",
    ")\n",
    "filtered = cmf_xarray(sst)"
   ]
  },
  {
   "cell_type": "code",
   "execution_count": null,
   "id": "aff32b5e-ae09-44c8-bdb6-60648923dad0",
   "metadata": {},
   "outputs": [],
   "source": [
    "fig, axes = plt.subplots(\n",
    "    1,\n",
    "    2,\n",
    "    figsize=(6, 2.3),\n",
    "    layout=\"constrained\",\n",
    "    sharex=True,\n",
    "    sharey=True,\n",
    "    dpi=200,\n",
    ")\n",
    "\n",
    "im_kw = dict(\n",
    "    cmap=\"inferno\",\n",
    "    add_labels=False,\n",
    "    center=False,\n",
    "    vmin=vmin,\n",
    "    vmax=vmax,\n",
    ")\n",
    "sst.plot.imshow(ax=axes[0], **im_kw)\n",
    "filtered.plot.imshow(ax=axes[1], **im_kw)\n",
    "\n",
    "axes[0].set_title(\"SST\", weight=\"bold\")\n",
    "axes[1].set_title(\"Filtered\", weight=\"bold\")\n",
    "\n",
    "for ax in axes:\n",
    "    ax.set_aspect(\"equal\")"
   ]
  },
  {
   "cell_type": "markdown",
   "id": "2a83f4a1-db0c-4e44-b315-0c52e773b503",
   "metadata": {
    "editable": true,
    "slideshow": {
     "slide_type": ""
    },
    "tags": []
   },
   "source": [
    "## Ideal Jet\n",
    "\n",
    "A idealized meandering jets with rings, as a 2D numpy array (embeded in Xarray) with swap noise and spikes."
   ]
  },
  {
   "cell_type": "code",
   "execution_count": null,
   "id": "ae27f6af-2fb2-44f2-82eb-658474defdc5",
   "metadata": {
    "editable": true,
    "slideshow": {
     "slide_type": ""
    },
    "tags": []
   },
   "outputs": [],
   "source": [
    "sst_raw = ideal_jet()\n",
    "vmin = np.min(sst_raw)\n",
    "vmax = np.max(sst_raw)\n",
    "sst = xr.DataArray(\n",
    "    add_spikes(swap_noise(sst_raw)), name=\"sst\", dims=(\"lat\", \"lon\")\n",
    ")\n",
    "filtered = cmf_xarray(sst)"
   ]
  },
  {
   "cell_type": "code",
   "execution_count": null,
   "id": "a1d52eb5-50f2-4599-8c07-a3f39a0bf2a8",
   "metadata": {
    "editable": true,
    "slideshow": {
     "slide_type": ""
    },
    "tags": []
   },
   "outputs": [],
   "source": [
    "fig, axes = plt.subplots(\n",
    "    1,\n",
    "    2,\n",
    "    figsize=(6, 2.3),\n",
    "    layout=\"constrained\",\n",
    "    sharex=True,\n",
    "    sharey=True,\n",
    "    dpi=200,\n",
    ")\n",
    "\n",
    "im_kw = dict(\n",
    "    cmap=\"inferno\",\n",
    "    add_labels=False,\n",
    "    center=False,\n",
    "    vmin=vmin,\n",
    "    vmax=vmax,\n",
    ")\n",
    "sst.plot.imshow(ax=axes[0], **im_kw)\n",
    "filtered.plot.imshow(ax=axes[1], **im_kw)\n",
    "\n",
    "axes[0].set_title(\"SST\", weight=\"bold\")\n",
    "axes[1].set_title(\"Filtered\", weight=\"bold\")\n",
    "\n",
    "for ax in axes:\n",
    "    ax.set_aspect(\"equal\")"
   ]
  },
  {
   "cell_type": "markdown",
   "id": "e48cc348-187a-4771-8d2c-3e5e8851c44d",
   "metadata": {
    "editable": true,
    "slideshow": {
     "slide_type": ""
    },
    "tags": []
   },
   "source": [
    "## MODIS Data\n",
    "\n",
    "SST off the Californian coast, as a Dask array embeded in Xarray."
   ]
  },
  {
   "cell_type": "code",
   "execution_count": null,
   "id": "aec3e560-0e35-4d9d-b0d5-a4b2515110f9",
   "metadata": {
    "editable": true,
    "slideshow": {
     "slide_type": ""
    },
    "tags": []
   },
   "outputs": [],
   "source": [
    "sst = (\n",
    "    sample(\"MODIS\")\n",
    "    .sst4.isel(time=0)\n",
    "    .sel(lat=slice(20, 10), lon=slice(-110, -100))\n",
    "    .chunk(lat=256, lon=256)\n",
    ")\n",
    "filtered = cmf_xarray(sst)\n",
    "\n",
    "vmin = float(sst.min())\n",
    "vmax = float(sst.max())\n",
    "\n",
    "fig, axes = plt.subplots(\n",
    "    1,\n",
    "    2,\n",
    "    figsize=(6, 2.2),\n",
    "    layout=\"constrained\",\n",
    "    sharex=True,\n",
    "    sharey=True,\n",
    "    dpi=200,\n",
    ")\n",
    "\n",
    "im_kw = dict(\n",
    "    add_labels=False,\n",
    "    center=False,\n",
    "    cbar_kwargs=dict(location=\"right\", pad=0.05),\n",
    "    vmin=vmin,\n",
    "    vmax=vmax,\n",
    ")\n",
    "sst.plot.imshow(ax=axes[0], **im_kw)\n",
    "filtered.plot.imshow(ax=axes[1], **im_kw)\n",
    "axes[0].set_title(\"SST\", weight=\"bold\")\n",
    "axes[1].set_title(\"Filtered\", weight=\"bold\")\n",
    "\n",
    "for ax in axes:\n",
    "    ax.set_aspect(\"equal\")"
   ]
  }
 ],
 "metadata": {
  "kernelspec": {
   "display_name": "Python 3 (ipykernel)",
   "language": "python",
   "name": "python3"
  },
  "language_info": {
   "codemirror_mode": {
    "name": "ipython",
    "version": 3
   },
   "file_extension": ".py",
   "mimetype": "text/x-python",
   "name": "python",
   "nbconvert_exporter": "python",
   "pygments_lexer": "ipython3",
   "version": "3.12.11"
  }
 },
 "nbformat": 4,
 "nbformat_minor": 5
}
