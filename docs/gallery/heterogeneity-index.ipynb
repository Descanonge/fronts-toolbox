{
 "cells": [
  {
   "cell_type": "code",
   "execution_count": null,
   "id": "a2741423-64ec-47a8-baa0-ca715010712c",
   "metadata": {
    "editable": true,
    "nbsphinx": "hidden",
    "slideshow": {
     "slide_type": ""
    },
    "tags": []
   },
   "outputs": [],
   "source": [
    "%matplotlib inline\n",
    "import matplotlib\n",
    "matplotlib.rcdefaults()"
   ]
  },
  {
   "cell_type": "markdown",
   "id": "773b5161-934e-44a8-85c1-82307bccee29",
   "metadata": {
    "editable": true,
    "slideshow": {
     "slide_type": ""
    },
    "tags": []
   },
   "source": [
    "# Heterogeneity-Index"
   ]
  },
  {
   "cell_type": "code",
   "execution_count": null,
   "id": "6f242225-523d-4357-9d3f-79dd9eda3de9",
   "metadata": {
    "editable": true,
    "slideshow": {
     "slide_type": ""
    },
    "tags": []
   },
   "outputs": [],
   "source": [
    "import itertools\n",
    "\n",
    "import matplotlib.pyplot as plt\n",
    "import xarray as xr\n",
    "\n",
    "\n",
    "def plot(\n",
    "    sst: xr.DataArray,\n",
    "    components: xr.Dataset,\n",
    "    hi: xr.DataArray,\n",
    "    input_kw: dict | None = None,\n",
    ") -> plt.Figure:\n",
    "    if input_kw is None:\n",
    "        input_kw = {}\n",
    "\n",
    "    fig = plt.figure(figsize=(6, 4.2), layout=\"constrained\", dpi=150)\n",
    "\n",
    "    grid = plt.GridSpec(2, 1, figure=fig, height_ratios=(2.7, 2))\n",
    "    axes_top = grid[0].subgridspec(1, 2).subplots()\n",
    "    axes_bot = grid[1].subgridspec(1, 3).subplots()\n",
    "\n",
    "    for ax in itertools.chain(axes_top[1:], axes_bot):\n",
    "        ax.sharex(axes_top[0])\n",
    "        ax.sharey(axes_top[0])\n",
    "\n",
    "    im_kw = dict(\n",
    "        add_labels=False,\n",
    "        cbar_kwargs=dict(location=\"right\", pad=0.05),\n",
    "    )\n",
    "\n",
    "    sst.plot.imshow(\n",
    "        ax=axes_top[0],\n",
    "        cmap=\"inferno\",\n",
    "        center=False,\n",
    "        **input_kw,\n",
    "        **im_kw,\n",
    "    )\n",
    "    axes_top[0].set_title(\"SST\", weight=\"bold\")\n",
    "\n",
    "    hi.plot.imshow(ax=axes_top[1], cmap=\"viridis\", **im_kw)\n",
    "    axes_top[1].set_title(\"HI\", weight=\"bold\")\n",
    "\n",
    "    for ax, c in zip(axes_bot, components, strict=True):\n",
    "        components[c].plot.imshow(ax=ax, cmap=\"viridis\", **im_kw)\n",
    "        ax.set_title(c, weight=\"bold\")\n",
    "\n",
    "    for ax in itertools.chain(axes_top, axes_bot):\n",
    "        ax.set_aspect(\"equal\")\n",
    "    for ax in itertools.chain(axes_bot[1:], axes_top[1:]):\n",
    "        ax.tick_params(labelleft=False)\n",
    "\n",
    "    return fig"
   ]
  },
  {
   "cell_type": "markdown",
   "id": "8f6f8a3d-c6ae-405d-987a-6027a0698da7",
   "metadata": {
    "editable": true,
    "slideshow": {
     "slide_type": ""
    },
    "tags": []
   },
   "source": [
    "## Ideal Jet\n",
    "\n",
    "A idealized meandering jets with rings, as a 2D numpy array (embeded in Xarray)."
   ]
  },
  {
   "cell_type": "code",
   "execution_count": null,
   "id": "f0f23867-cbeb-4b0d-8d74-0e562cc55de0",
   "metadata": {
    "editable": true,
    "slideshow": {
     "slide_type": ""
    },
    "tags": []
   },
   "outputs": [],
   "source": [
    "import xarray as xr\n",
    "from fronts_toolbox._fields import ideal_jet, sample\n",
    "from fronts_toolbox.heterogeneity_index import (\n",
    "    apply_coefficients,\n",
    "    coefficient_hi,\n",
    "    coefficients_components,\n",
    "    components_xarray,\n",
    ")"
   ]
  },
  {
   "cell_type": "code",
   "execution_count": null,
   "id": "593bd887-4f84-492a-a0cc-29b0b7a90c6a",
   "metadata": {
    "editable": true,
    "slideshow": {
     "slide_type": ""
    },
    "tags": []
   },
   "outputs": [],
   "source": [
    "sst = xr.DataArray(ideal_jet(), name=\"sst\", dims=(\"lat\", \"lon\"))\n",
    "components = components_xarray(sst, window_size=5, bins_shift=False)\n",
    "coefs = coefficients_components(components)\n",
    "coefs[\"HI\"] = coefficient_hi(components, coefs)\n",
    "hi = apply_coefficients(components, coefs)\n",
    "\n",
    "fig = plot(sst, components, hi)"
   ]
  },
  {
   "cell_type": "markdown",
   "id": "e48cc348-187a-4771-8d2c-3e5e8851c44d",
   "metadata": {
    "editable": true,
    "slideshow": {
     "slide_type": ""
    },
    "tags": []
   },
   "source": [
    "## ESA-SST-CCI / C3S Data\n",
    "\n",
    "SST of the North Atlantic, as a Dask array embeded in Xarray."
   ]
  },
  {
   "cell_type": "code",
   "execution_count": null,
   "id": "aec3e560-0e35-4d9d-b0d5-a4b2515110f9",
   "metadata": {
    "editable": true,
    "slideshow": {
     "slide_type": ""
    },
    "tags": []
   },
   "outputs": [],
   "source": [
    "sst = (\n",
    "    sample(\"ESA-CCI-C3S\")\n",
    "    .analysed_sst.sel(lat=slice(15, 55), lon=slice(-82, -40))\n",
    "    .chunk(lat=256, lon=256)\n",
    ")\n",
    "components = components_xarray(sst, window_size=5, bins_shift=False)\n",
    "coefs = coefficients_components(components)\n",
    "coefs[\"HI\"] = coefficient_hi(components, coefs)\n",
    "hi = apply_coefficients(components, coefs)\n",
    "\n",
    "fig = plot(\n",
    "    sst.isel(time=0),\n",
    "    components.isel(time=0),\n",
    "    hi.isel(time=0),\n",
    ")"
   ]
  }
 ],
 "metadata": {
  "kernelspec": {
   "display_name": "Python 3 (ipykernel)",
   "language": "python",
   "name": "python3"
  },
  "language_info": {
   "codemirror_mode": {
    "name": "ipython",
    "version": 3
   },
   "file_extension": ".py",
   "mimetype": "text/x-python",
   "name": "python",
   "nbconvert_exporter": "python",
   "pygments_lexer": "ipython3",
   "version": "3.12.11"
  }
 },
 "nbformat": 4,
 "nbformat_minor": 5
}
