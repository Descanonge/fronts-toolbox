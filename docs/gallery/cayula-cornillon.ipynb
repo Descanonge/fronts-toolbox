{
 "cells": [
  {
   "cell_type": "code",
   "execution_count": null,
   "id": "a2741423-64ec-47a8-baa0-ca715010712c",
   "metadata": {
    "editable": true,
    "nbsphinx": "hidden",
    "slideshow": {
     "slide_type": ""
    },
    "tags": []
   },
   "outputs": [],
   "source": [
    "%matplotlib inline\n",
    "import matplotlib\n",
    "matplotlib.rcdefaults()"
   ]
  },
  {
   "cell_type": "markdown",
   "id": "04ae253a-3743-455c-9f7d-31dc60a320f7",
   "metadata": {
    "editable": true,
    "slideshow": {
     "slide_type": ""
    },
    "tags": []
   },
   "source": [
    "# Cayula-Cornillon\n",
    "\n",
    "## Ideal Jet\n",
    "\n",
    "A idealized meandering jets with rings, as a 2D numpy array (embeded in Xarray)."
   ]
  },
  {
   "cell_type": "code",
   "execution_count": null,
   "id": "f0f23867-cbeb-4b0d-8d74-0e562cc55de0",
   "metadata": {
    "editable": true,
    "slideshow": {
     "slide_type": ""
    },
    "tags": []
   },
   "outputs": [],
   "source": [
    "import matplotlib.pyplot as plt\n",
    "import xarray as xr\n",
    "from fronts_toolbox._fields import ideal_jet, sample\n",
    "from fronts_toolbox.cayula_cornillon import cayula_cornillon_xarray"
   ]
  },
  {
   "cell_type": "code",
   "execution_count": null,
   "id": "4b300d11-b94a-4d5a-b782-1369530c8d19",
   "metadata": {
    "editable": true,
    "slideshow": {
     "slide_type": ""
    },
    "tags": []
   },
   "outputs": [],
   "source": [
    "# A colormap for overlaying the detected fronts\n",
    "from matplotlib.colors import ListedColormap\n",
    "\n",
    "cmap_fronts = ListedColormap([(0, 0, 0, 0), (0, 0, 0, 1)])"
   ]
  },
  {
   "cell_type": "code",
   "execution_count": null,
   "id": "ae27f6af-2fb2-44f2-82eb-658474defdc5",
   "metadata": {
    "editable": true,
    "slideshow": {
     "slide_type": ""
    },
    "tags": []
   },
   "outputs": [],
   "source": [
    "sst = xr.DataArray(ideal_jet(), name=\"sst\", dims=(\"lat\", \"lon\"))\n",
    "fronts = cayula_cornillon_xarray(sst)"
   ]
  },
  {
   "cell_type": "code",
   "execution_count": null,
   "id": "a1d52eb5-50f2-4599-8c07-a3f39a0bf2a8",
   "metadata": {
    "editable": true,
    "slideshow": {
     "slide_type": ""
    },
    "tags": []
   },
   "outputs": [],
   "source": [
    "fig, ax = plt.subplots(dpi=150)\n",
    "\n",
    "sst.plot.imshow(ax=ax, cmap=\"inferno\", add_labels=False)\n",
    "fronts.plot.imshow(\n",
    "    ax=ax, cmap=cmap_fronts, add_labels=False, add_colorbar=False\n",
    ")\n",
    "ax.set_aspect(\"equal\")"
   ]
  },
  {
   "cell_type": "markdown",
   "id": "e48cc348-187a-4771-8d2c-3e5e8851c44d",
   "metadata": {
    "editable": true,
    "slideshow": {
     "slide_type": ""
    },
    "tags": []
   },
   "source": [
    "## ESA-SST-CCI / C3S Data\n",
    "\n",
    "SST of the North Atlantic, as a Dask array embeded in Xarray."
   ]
  },
  {
   "cell_type": "code",
   "execution_count": null,
   "id": "aec3e560-0e35-4d9d-b0d5-a4b2515110f9",
   "metadata": {
    "editable": true,
    "slideshow": {
     "slide_type": ""
    },
    "tags": []
   },
   "outputs": [],
   "source": [
    "sst = (\n",
    "    sample(\"ESA-CCI-C3S\")\n",
    "    .analysed_sst.sel(lat=slice(15, 55), lon=slice(-82, -40))\n",
    "    .chunk(lat=256, lon=256)\n",
    ")\n",
    "fronts = cayula_cornillon_xarray(sst)\n",
    "\n",
    "fig, ax = plt.subplots(dpi=200)\n",
    "\n",
    "sst.isel(time=0).plot.imshow(\n",
    "    ax=ax, cmap=\"inferno\", add_labels=False, center=False\n",
    ")\n",
    "fronts.isel(time=0).plot.imshow(\n",
    "    ax=ax, cmap=cmap_fronts, add_labels=False, add_colorbar=False\n",
    ")\n",
    "\n",
    "ax.set_aspect(\"equal\")"
   ]
  },
  {
   "cell_type": "markdown",
   "id": "64358731-ba8c-464f-8922-db58b5214aa7",
   "metadata": {
    "editable": true,
    "slideshow": {
     "slide_type": ""
    },
    "tags": []
   },
   "source": [
    "## MODIS Data - Overlap\n",
    "\n",
    "An example off the Californian coast with a window step smaller than its size, *ie* there is overlap between windows."
   ]
  },
  {
   "cell_type": "code",
   "execution_count": null,
   "id": "528a552a-af0a-4119-b23e-21c56615de36",
   "metadata": {
    "editable": true,
    "slideshow": {
     "slide_type": ""
    },
    "tags": []
   },
   "outputs": [],
   "source": [
    "sst = (\n",
    "    sample(\"MODIS\")\n",
    "    .sst4.isel(time=0)\n",
    "    .sel(lat=slice(20, 15), lon=slice(-110, -100))\n",
    "    .chunk(lat=256, lon=256)\n",
    ")\n",
    "fronts = cayula_cornillon_xarray(sst, window_size=32, window_step=8)\n",
    "\n",
    "fig, axes = plt.subplots(1, 2, layout=\"constrained\", dpi=200)\n",
    "\n",
    "im_kw = dict(add_labels=False, cbar_kwargs=dict(location=\"top\"))\n",
    "sst.plot.imshow(ax=axes[0], cmap=\"inferno\", center=False, **im_kw)\n",
    "fronts.plot.imshow(ax=axes[1], cmap=\"viridis\", **im_kw)\n",
    "\n",
    "for ax in axes:\n",
    "    ax.set_aspect(\"equal\")"
   ]
  }
 ],
 "metadata": {
  "kernelspec": {
   "display_name": "Python 3 (ipykernel)",
   "language": "python",
   "name": "python3"
  },
  "language_info": {
   "codemirror_mode": {
    "name": "ipython",
    "version": 3
   },
   "file_extension": ".py",
   "mimetype": "text/x-python",
   "name": "python",
   "nbconvert_exporter": "python",
   "pygments_lexer": "ipython3",
   "version": "3.12.11"
  }
 },
 "nbformat": 4,
 "nbformat_minor": 5
}
